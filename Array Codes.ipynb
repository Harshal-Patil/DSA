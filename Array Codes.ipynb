{
 "cells": [
  {
   "cell_type": "code",
   "execution_count": 8,
   "metadata": {},
   "outputs": [
    {
     "name": "stdout",
     "output_type": "stream",
     "text": [
      "5\n",
      "222 111 333 444 22\n",
      "[222, 111, 333, 444, 22]\n",
      "22\n"
     ]
    }
   ],
   "source": [
    "''' 1)Find Smallest Element is Array'''\n",
    "n=int(input())\n",
    "li=[int(x) for x in input().split()]\n",
    "print(li)\n",
    "small=li[0]\n",
    "for i in range (len(li)):\n",
    "    if small>li[i]:\n",
    "        small=li[i]\n",
    "print(small)"
   ]
  },
  {
   "cell_type": "code",
   "execution_count": null,
   "metadata": {},
   "outputs": [],
   "source": [
    "''' 2)Find Second Smallest Element is Array'''"
   ]
  },
  {
   "cell_type": "code",
   "execution_count": 8,
   "metadata": {},
   "outputs": [
    {
     "name": "stdout",
     "output_type": "stream",
     "text": [
      "5\n",
      "20 30 10 40 60\n",
      "[20, 30, 10, 40, 60]\n",
      "10 20\n"
     ]
    }
   ],
   "source": [
    "import sys\n",
    "n=int(input())\n",
    "li=[int(x) for x in input().split()]\n",
    "print(li)\n",
    "min1=sys.maxsize\n",
    "min2=sys.maxsize\n",
    "for i in range(len(li)):\n",
    "    if min1>li[i]:\n",
    "        min2=min1\n",
    "        min1=li[i]\n",
    "    elif min2>li[i] and li[i]!=min1:\n",
    "        min2=li[i]\n",
    "print(min1,min2)"
   ]
  },
  {
   "cell_type": "code",
   "execution_count": 45,
   "metadata": {},
   "outputs": [
    {
     "name": "stdout",
     "output_type": "stream",
     "text": [
      "5\n",
      "10 50 80 70 60\n",
      "[10, 50, 80, 70, 60]\n",
      "80\n"
     ]
    }
   ],
   "source": [
    "''' 3)Find Largest Element in Array'''\n",
    "n=int(input())\n",
    "li=[int(x) for x in input().split()]\n",
    "print(li)\n",
    "large=li[0]\n",
    "for i in range(len(li)):\n",
    "    if large<li[i]:\n",
    "        large=li[i]\n",
    "print(large)"
   ]
  },
  {
   "cell_type": "code",
   "execution_count": 50,
   "metadata": {},
   "outputs": [
    {
     "name": "stdout",
     "output_type": "stream",
     "text": [
      "5\n",
      "10 20 30 40 40\n",
      "[10, 20, 30, 40, 40]\n",
      "30\n"
     ]
    }
   ],
   "source": [
    "'''4)Find Second Largest Element in Array'''\n",
    "n=int(input())\n",
    "li=[int(x) for x in input().split()]\n",
    "print(li)\n",
    "max1=-999999\n",
    "max2=-999999\n",
    "for i in range(0,n):\n",
    "    if max1<li[i]:\n",
    "        max2=max1\n",
    "        max1=li[i]\n",
    "    elif max2<li[i] and li[i]!=max1:\n",
    "        max2=li[i]\n",
    "print(max2)"
   ]
  },
  {
   "cell_type": "code",
   "execution_count": 12,
   "metadata": {},
   "outputs": [
    {
     "name": "stdout",
     "output_type": "stream",
     "text": [
      "5\n",
      "10 20 30 40 50\n",
      "[10, 20, 30, 40, 50]\n",
      "150\n"
     ]
    }
   ],
   "source": [
    "''' 5)Find Sum of Element in Array'''\n",
    "n=int(input())\n",
    "li=[int(x) for x in input().split()]\n",
    "print(li)\n",
    "sum=0\n",
    "for i in range(len(li)):\n",
    "    sum+=li[i]\n",
    "print(sum)"
   ]
  },
  {
   "cell_type": "code",
   "execution_count": 16,
   "metadata": {},
   "outputs": [
    {
     "name": "stdout",
     "output_type": "stream",
     "text": [
      "5\n",
      "10 20 30 40 50\n",
      "[50, 40, 30, 20, 10]\n",
      "5\n",
      "100 90 80 70 60\n",
      "[60, 70, 80, 90, 100]\n"
     ]
    }
   ],
   "source": [
    "''' 6)Reversed  Element in Array'''\n",
    "n=int(input())\n",
    "li=[int(x) for x in input().split()]\n",
    "length=len(li)\n",
    "for i in range(length//2):\n",
    "    li[i],li[length-i-1]=li[length-i-1],li[i]\n",
    "print(li)\n",
    "'''Other Approch'''\n",
    "n=int(input())\n",
    "li=[int(x) for x in input().split()]\n",
    "rev=li[::-1]\n",
    "print(rev)"
   ]
  },
  {
   "cell_type": "code",
   "execution_count": 17,
   "metadata": {},
   "outputs": [
    {
     "name": "stdout",
     "output_type": "stream",
     "text": [
      "5\n",
      "20 10 30 50 40\n",
      "[20, 10, 30, 50, 40]\n",
      "[10, 20, 30, 40, 50]\n"
     ]
    }
   ],
   "source": [
    "''' 7)Sorted   Element in Array'''\n",
    "n=int(input())\n",
    "li=[int(x) for x in input().split()]\n",
    "print(li)\n",
    "for i in range(len(li)):\n",
    "    for j in range(i+1,len(li)):\n",
    "        if li[i]>li[j]:\n",
    "            li[i],li[j]=li[j],li[i]\n",
    "print(li)"
   ]
  },
  {
   "cell_type": "code",
   "execution_count": 18,
   "metadata": {},
   "outputs": [
    {
     "name": "stdout",
     "output_type": "stream",
     "text": [
      "5\n",
      "10 20 30 40 50\n",
      "[10, 20, 30, 40, 50]\n",
      "[20, 10, 40, 30, 50]\n"
     ]
    }
   ],
   "source": [
    "'''8)Swap Alternate Array Elements'''\n",
    "n=int(input())\n",
    "li=[int(x) for x in input().split()]\n",
    "print(li)\n",
    "for i in range(0,n-1,2):\n",
    "    li[i],li[i+1]=li[i+1],li[i]\n",
    "print(li)"
   ]
  },
  {
   "cell_type": "code",
   "execution_count": 25,
   "metadata": {},
   "outputs": [
    {
     "name": "stdout",
     "output_type": "stream",
     "text": [
      "7\n",
      "2 3 1 6 3 6 2\n",
      "[2, 3, 1, 6, 3, 6, 2]\n",
      "1\n"
     ]
    }
   ],
   "source": [
    "'''9)Find Unique Element in Array Elements'''\n",
    "n=int(input())\n",
    "li=[int(x) for x in input().split()]\n",
    "print(li)\n",
    "for i in range(0,n):\n",
    "    for j in range(0,n):\n",
    "        if li[i]==li[j] and i!=j:\n",
    "            break\n",
    "    else:\n",
    "        print(li[i])\n"
   ]
  },
  {
   "cell_type": "code",
   "execution_count": 29,
   "metadata": {},
   "outputs": [
    {
     "name": "stdout",
     "output_type": "stream",
     "text": [
      "5\n",
      "1 2 4 5 2\n",
      "[1, 2, 4, 5, 2]\n",
      "2\n"
     ]
    }
   ],
   "source": [
    "'''10) Find Duplicate Number in array'''\n",
    "n=int(input())\n",
    "li=[int(x) for x in input().split()]\n",
    "print(li)\n",
    "for i in range(0,n):\n",
    "    for j in range(i+1,n):\n",
    "        if li[i]==li[j]:\n",
    "            print(li[j])"
   ]
  },
  {
   "cell_type": "code",
   "execution_count": 35,
   "metadata": {},
   "outputs": [
    {
     "name": "stdout",
     "output_type": "stream",
     "text": [
      "4\n",
      "2 6 1 2\n",
      "5\n",
      "1 2 3 4 2\n",
      "2 1 2 "
     ]
    }
   ],
   "source": [
    "'''11)Array Intersection'''\n",
    "'''\n",
    "i/p\n",
    "4\n",
    "2 6 1 2\n",
    "5\n",
    "1 2 3 4 2\n",
    "o/p-2 1 2\n",
    "'''\n",
    "import sys\n",
    "n=int(input())\n",
    "arr1=[int(x) for x in input().split()]\n",
    "m=int(input())\n",
    "arr2=[int(x) for x in input().split()]\n",
    "for i in range(len(arr1)):\n",
    "    for j in range(len(arr2)):\n",
    "        if arr1[i]==arr2[j]:\n",
    "            print(arr1[i],end=\" \")\n",
    "            arr2[j]=-999999\n",
    "            break"
   ]
  },
  {
   "cell_type": "code",
   "execution_count": 38,
   "metadata": {},
   "outputs": [
    {
     "name": "stdout",
     "output_type": "stream",
     "text": [
      "9\n",
      "1 3 6 2 5 4 3 2 4\n",
      "8\n",
      "[1, 3, 6, 2, 5, 4, 3, 2, 4]\n",
      "5\n"
     ]
    }
   ],
   "source": [
    "'''12)Pair Sum \n",
    "i/p\n",
    "9\n",
    "1 3 6 2 5 4 3 2 4\n",
    "8\n",
    "o/p\n",
    "5\n",
    "'''\n",
    "n=int(input())\n",
    "li=[int(x) for x in input().split()]\n",
    "x=int(input())\n",
    "print(li)\n",
    "count=0\n",
    "for i in range(0,n):\n",
    "    for j in range(i+1,n):\n",
    "        if li[i]+li[j]==x:\n",
    "            count+=1\n",
    "print(count)"
   ]
  },
  {
   "cell_type": "code",
   "execution_count": 40,
   "metadata": {},
   "outputs": [
    {
     "name": "stdout",
     "output_type": "stream",
     "text": [
      "7\n",
      "1 2 3 4 5 6 7\n",
      "12\n",
      "5\n"
     ]
    }
   ],
   "source": [
    "'''13)Triplet Sum\n",
    "7\n",
    "1 2 3 4 5 6 7 \n",
    "12\n",
    "o/p-5\n",
    "'''\n",
    "n=int(input())\n",
    "li=[int(x) for x in input().split()]\n",
    "x=int(input())\n",
    "count=0\n",
    "for i in range(0,n):\n",
    "    for j in range(i+1,n):\n",
    "        for k in range(j+1,n):\n",
    "            if(li[i]+li[j]+li[k]==x):\n",
    "                count+=1\n",
    "print(count)"
   ]
  },
  {
   "cell_type": "code",
   "execution_count": 41,
   "metadata": {},
   "outputs": [
    {
     "name": "stdout",
     "output_type": "stream",
     "text": [
      "7\n",
      "0 1 1 0 1 0 1\n",
      "[0, 0, 0, 1, 1, 1, 1]\n"
     ]
    }
   ],
   "source": [
    "'''14)Sort 0,1\n",
    "7\n",
    "0 1 1 0 1 0 1\n",
    "0/p-0 0 0 1 1 1 1\n",
    "'''\n",
    "n=int(input())\n",
    "li=[int(x) for x in input().split()]\n",
    "count=0\n",
    "for i in range(0,n):\n",
    "    if li[i]==0:\n",
    "        count+=1\n",
    "for i in range(0,count):\n",
    "    li[i]=0\n",
    "for i in range(count,n):\n",
    "    li[i]=1\n",
    "print(li)"
   ]
  },
  {
   "cell_type": "code",
   "execution_count": 56,
   "metadata": {},
   "outputs": [
    {
     "name": "stdout",
     "output_type": "stream",
     "text": [
      "7\n",
      "0 1 2 0 1 2 0\n",
      "[0, 1, 2, 0, 1, 2, 0]\n",
      "[0, 0, 0, 1, 1, 2, 2]\n"
     ]
    }
   ],
   "source": [
    "'''15)Sort 0,1,2'''\n",
    "n=int(input())\n",
    "li=[int(x) for x in input().split()]\n",
    "print(li)\n",
    "nextZero=0\n",
    "nextTwo=n-1\n",
    "i=0\n",
    "while i<nextTwo:\n",
    "    if li[i]==0:\n",
    "        li[i],li[nextZero]=li[nextZero],li[i]\n",
    "        nextZero+=1\n",
    "        i+=1\n",
    "    elif li[i]==2:\n",
    "        li[i],li[nextTwo]=li[nextTwo],li[i]\n",
    "        nextTwo-=1\n",
    "    else:\n",
    "        i+=1\n",
    "print(li)"
   ]
  },
  {
   "cell_type": "code",
   "execution_count": null,
   "metadata": {},
   "outputs": [],
   "source": [
    "''' 16)Push Zeros At The End\n",
    "i/p-7\n",
    "2 0 0 1 3 0 0\n",
    "o/p-2 1 3 0 0 0 0\n",
    "'''\n",
    "n=int(input())\n",
    "li=[int(x) for x in input().split()]\n",
    "nonZero=0\n",
    "for i in range(0,n):\n",
    "    if li[i]!=0:\n",
    "        li[i],li[nonZero]=li[nonZero],li[i]\n",
    "        nonZero+=1\n",
    "print(li)"
   ]
  },
  {
   "cell_type": "code",
   "execution_count": 1,
   "metadata": {},
   "outputs": [
    {
     "name": "stdout",
     "output_type": "stream",
     "text": [
      "5\n",
      "11 222 333 12121 444\n",
      "[11, 222, 333, 12121, 444]\n",
      "12121\n"
     ]
    }
   ],
   "source": [
    "'''17)longest palindrome number in an array'''\n",
    "def isPallindrome(num):\n",
    "    rev=0\n",
    "    n=num\n",
    "    while n!=0:\n",
    "        a=n%10\n",
    "        rev=rev*10+a\n",
    "        n=n//10\n",
    "    if(rev==num):\n",
    "        return True\n",
    "    return False\n",
    "def sort(li):\n",
    "    for i in range(n):\n",
    "        for j in range(i+1,n):\n",
    "            if li[i]>li[j]:\n",
    "                li[i],li[j]=li[j],li[i]\n",
    "    return li\n",
    "def rev(li,n):\n",
    "    for i in range(n-1,-1,-1):\n",
    "        if(isPallindrome(li[i])):\n",
    "            return li[i]\n",
    "        return -1\n",
    "n=int(input())\n",
    "li=[int(x) for x in input().split()]\n",
    "print(li)\n",
    "sort(li)\n",
    "print(rev(li,n))"
   ]
  },
  {
   "cell_type": "code",
   "execution_count": 2,
   "metadata": {},
   "outputs": [
    {
     "name": "stdout",
     "output_type": "stream",
     "text": [
      "5\n",
      "22 11 22 11 33\n",
      "[22, 11, 22, 11, 33]\n",
      "22 occures 2 times\n",
      "11 occures 2 times\n",
      "33 occures 1 times\n"
     ]
    }
   ],
   "source": [
    "'''18)Finding the frequency of elements in an array'''\n",
    "n=int(input())\n",
    "li=[int(x) for x in input().split()]\n",
    "print(li)\n",
    "di=list(dict.fromkeys(li))\n",
    "for i in di:\n",
    "    print(i,\"occures\",li.count(i),\"times\")"
   ]
  },
  {
   "cell_type": "code",
   "execution_count": 5,
   "metadata": {},
   "outputs": [
    {
     "name": "stdout",
     "output_type": "stream",
     "text": [
      "5\n",
      "11 22 33 11 44\n",
      "[11, 22, 33, 11, 44]\n",
      "0\n"
     ]
    }
   ],
   "source": [
    "'''19)Program for Counting Distinct Elements in an Array'''\n",
    "def countDistinct(li,n):\n",
    "    res=0\n",
    "    for i in range(1,n):\n",
    "        for j in range(i+1,n):\n",
    "            if li[i]==li[j]:\n",
    "                break\n",
    "        if(i==j+1):\n",
    "            res+1\n",
    "    return res\n",
    "\n",
    "n=int(input())\n",
    "li=[int(x) for x in input().split()]\n",
    "print(li)\n",
    "res=countDistinct(li,n)\n",
    "print(res)"
   ]
  },
  {
   "cell_type": "code",
   "execution_count": 3,
   "metadata": {},
   "outputs": [
    {
     "name": "stdout",
     "output_type": "stream",
     "text": [
      "5\n",
      "1 2 3 4 5\n",
      "3\n"
     ]
    }
   ],
   "source": [
    "n=int(input())\n",
    "t=int(input())\n",
    "li=[int(x) for x in input().split()]\n",
    "\n",
    "\n"
   ]
  },
  {
   "cell_type": "code",
   "execution_count": null,
   "metadata": {},
   "outputs": [],
   "source": []
  },
  {
   "cell_type": "code",
   "execution_count": null,
   "metadata": {},
   "outputs": [],
   "source": []
  }
 ],
 "metadata": {
  "kernelspec": {
   "display_name": "Python 3",
   "language": "python",
   "name": "python3"
  },
  "language_info": {
   "codemirror_mode": {
    "name": "ipython",
    "version": 3
   },
   "file_extension": ".py",
   "mimetype": "text/x-python",
   "name": "python",
   "nbconvert_exporter": "python",
   "pygments_lexer": "ipython3",
   "version": "3.6.9"
  }
 },
 "nbformat": 4,
 "nbformat_minor": 2
}
