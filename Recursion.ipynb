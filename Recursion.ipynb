{
 "cells": [
  {
   "cell_type": "code",
   "execution_count": null,
   "metadata": {
    "scrolled": true
   },
   "outputs": [],
   "source": [
    "'''1)Factorial Using recurssion'''\n",
    "def factorial(n):\n",
    "    if n==0:\n",
    "        return 1\n",
    "    small=factorial(n-1)\n",
    "    ans=small*n\n",
    "    return ans\n",
    "n=int(input())\n",
    "factorial(n)    "
   ]
  },
  {
   "cell_type": "code",
   "execution_count": null,
   "metadata": {
    "scrolled": true
   },
   "outputs": [],
   "source": [
    "'''3)Number of Digits'''\n",
    "def numdigit(n):\n",
    "    if n<=9:\n",
    "        return 1\n",
    "    small=numdigit(n//10)\n",
    "    ans=small+1\n",
    "    return ans\n",
    "n=int(input())\n",
    "numdigit(n)"
   ]
  },
  {
   "cell_type": "code",
   "execution_count": null,
   "metadata": {
    "scrolled": true
   },
   "outputs": [],
   "source": [
    "'''3)Print N natural Number'''\n",
    "def printnTo1(n):\n",
    "    if n==0:\n",
    "        return \n",
    "    print(n,end=\" \")\n",
    "    printnTo1(n-1)\n",
    "n=int(input())\n",
    "printnTo1(n)"
   ]
  },
  {
   "cell_type": "code",
   "execution_count": null,
   "metadata": {
    "scrolled": true
   },
   "outputs": [],
   "source": [
    "'''4)Sum of N natural Number '''\n",
    "def sum_n(n):\n",
    "    if n==0:\n",
    "        return 0\n",
    "    small=sumn(n-1)\n",
    "    return small+n\n",
    "n=int(input())\n",
    "sum_n(n)"
   ]
  },
  {
   "cell_type": "code",
   "execution_count": null,
   "metadata": {
    "scrolled": true
   },
   "outputs": [],
   "source": [
    "'''5)Power of number'''\n",
    "def power_no(a,b):\n",
    "    if b==0:\n",
    "        return 0\n",
    "    if b==1:\n",
    "        return a\n",
    "    small=power_no(a,b-1)\n",
    "    return a**small\n",
    "a,b=input().split()\n",
    "a=int(a)\n",
    "b=int(b)\n",
    "power_no(a,b)\n",
    "    "
   ]
  },
  {
   "cell_type": "code",
   "execution_count": null,
   "metadata": {
    "scrolled": true
   },
   "outputs": [],
   "source": [
    "'''6)Print 1 to N natural Number'''\n",
    "def print1Ton(n):\n",
    "    if n==0:\n",
    "        return \n",
    "    print1Ton(n-1)\n",
    "    print(n,end=\" \")\n",
    "n=int(input())\n",
    "print1Ton(n)"
   ]
  },
  {
   "cell_type": "code",
   "execution_count": null,
   "metadata": {
    "scrolled": true
   },
   "outputs": [],
   "source": [
    "'''7)Fibonacci Series with Recursion'''\n",
    "def fib_n(n):\n",
    "    if n==1 or n==2:\n",
    "        return 1\n",
    "    fib_1=fib_n(n-1)\n",
    "    fib_2=fib_n(n-2)\n",
    "    return fib_1+fib_2\n",
    "n=int(input())\n",
    "fib_n(n)\n",
    "    "
   ]
  },
  {
   "cell_type": "code",
   "execution_count": 13,
   "metadata": {
    "scrolled": true
   },
   "outputs": [
    {
     "name": "stdout",
     "output_type": "stream",
     "text": [
      "5\n",
      "1 2 3 4 5\n"
     ]
    },
    {
     "data": {
      "text/plain": [
       "True"
      ]
     },
     "execution_count": 13,
     "metadata": {},
     "output_type": "execute_result"
    }
   ],
   "source": [
    "'''8)Check if List is Sorted'''\n",
    "def isSorted(a,si):\n",
    "    l=len(a)\n",
    "    if si==l-1 or si==1:\n",
    "        return True\n",
    "    if a[si]>a[si+1]:\n",
    "        return False\n",
    "    smallList=isSorted(a,si+1)\n",
    "    return smallList\n",
    "n=int(input())\n",
    "li=[int(x) for x in input().split()]\n",
    "isSorted(li,0)"
   ]
  },
  {
   "cell_type": "code",
   "execution_count": 18,
   "metadata": {},
   "outputs": [
    {
     "name": "stdout",
     "output_type": "stream",
     "text": [
      "5\n",
      "1 2 3 4 5\n"
     ]
    },
    {
     "data": {
      "text/plain": [
       "15"
      ]
     },
     "execution_count": 18,
     "metadata": {},
     "output_type": "execute_result"
    }
   ],
   "source": [
    "'''9)Sum of Array Using Recursion'''\n",
    "import sys\n",
    "def sum_Array(arr):\n",
    "    l=len(arr)\n",
    "    if l==1:\n",
    "        return arr[0]\n",
    "    small=sum_Array(arr[:l-1])\n",
    "    return small+arr[l-1]\n",
    "n=int(input())\n",
    "li=[int(x) for x in input().split()]\n",
    "sys.setrecursionlimit(1000)\n",
    "sum_Array(li)"
   ]
  },
  {
   "cell_type": "code",
   "execution_count": 22,
   "metadata": {},
   "outputs": [
    {
     "name": "stdout",
     "output_type": "stream",
     "text": [
      "5\n",
      "1 2 3 4 5\n",
      "3\n"
     ]
    },
    {
     "data": {
      "text/plain": [
       "2"
      ]
     },
     "execution_count": 22,
     "metadata": {},
     "output_type": "execute_result"
    }
   ],
   "source": [
    "#10)First Index Element Using Recursion\n",
    "import sys\n",
    "def firstIndex(arr,x):\n",
    "    l=len(arr)\n",
    "    if l==0:\n",
    "        return -1\n",
    "    if arr[0]==x:\n",
    "        return 0\n",
    "    smallList=arr[1:]\n",
    "    smallOutput=firstIndex(smallList,x)\n",
    "    if smallOutput==-1:\n",
    "        return -1\n",
    "    else:\n",
    "        return smallOutput+1\n",
    "n=int(input())\n",
    "sys.setrecursionlimit(1000)\n",
    "li=[int(x) for x in input().split()]\n",
    "x=int(input())\n",
    "firstIndex(li,x)"
   ]
  },
  {
   "cell_type": "code",
   "execution_count": null,
   "metadata": {},
   "outputs": [
    {
     "name": "stdout",
     "output_type": "stream",
     "text": [
      "5\n",
      "1 4 6 8 10\n"
     ]
    }
   ],
   "source": [
    "#11)First Index Element Using Recursion(without using extraspace)\n",
    "def firstSecond(arr,x,si):\n",
    "    l=len(arr)\n",
    "    if l==0:\n",
    "        return -1\n",
    "    if arr[si]==x:\n",
    "        return si\n",
    "    smallInput=firstIndex(arr,x,si+1)\n",
    "    return smallInput\n",
    "n=int(input())\n",
    "sys.setrecursionlimit(1000)\n",
    "li=[int(x) for x in input().split()]\n",
    "x=int(input())\n",
    "firstSecond(li,x,0)"
   ]
  },
  {
   "cell_type": "code",
   "execution_count": 5,
   "metadata": {},
   "outputs": [
    {
     "name": "stdout",
     "output_type": "stream",
     "text": [
      "axax\n"
     ]
    },
    {
     "data": {
      "text/plain": [
       "'aa'"
      ]
     },
     "execution_count": 5,
     "metadata": {},
     "output_type": "execute_result"
    }
   ],
   "source": [
    "#12)REMOCE X IN STRING USING RECURSION\n",
    "def removeX(string):\n",
    "    l=len(string)\n",
    "    if l==0:\n",
    "        return string\n",
    "    if string[0]=='x':\n",
    "        small=removeX(string[1:])\n",
    "        return \"\"+small\n",
    "    else:\n",
    "        small=removeX(string[1:])\n",
    "        return string[0]+small\n",
    "string=input()\n",
    "removeX(string)"
   ]
  },
  {
   "cell_type": "code",
   "execution_count": 10,
   "metadata": {},
   "outputs": [
    {
     "name": "stdout",
     "output_type": "stream",
     "text": [
      "xxxyyyzwwzzz\n"
     ]
    },
    {
     "data": {
      "text/plain": [
       "'xyzwz'"
      ]
     },
     "execution_count": 10,
     "metadata": {},
     "output_type": "execute_result"
    }
   ],
   "source": [
    "#13)Remove Duplicates in String\n",
    "def remove(string):\n",
    "    l=len(string)\n",
    "    if l<2:\n",
    "        return string\n",
    "    if string[0]==string[1]:\n",
    "        return remove(string[1:])\n",
    "    else:\n",
    "        return string[0]+remove(string[1:])\n",
    "string=input()\n",
    "remove(string)"
   ]
  },
  {
   "cell_type": "code",
   "execution_count": 5,
   "metadata": {},
   "outputs": [
    {
     "name": "stdout",
     "output_type": "stream",
     "text": [
      "9\n",
      "1 3 5 7 9 11 13 15 17 \n",
      "19\n"
     ]
    },
    {
     "data": {
      "text/plain": [
       "-1"
      ]
     },
     "execution_count": 5,
     "metadata": {},
     "output_type": "execute_result"
    }
   ],
   "source": [
    "#14)Binary Search Algorithm(Recursion)\n",
    "def binarySearch(arr,x,si,en):\n",
    "    if si>en:\n",
    "        return -1\n",
    "    mid=(si+en)//2\n",
    "    if arr[mid]==x:\n",
    "        return mid\n",
    "    elif arr[mid]>x:\n",
    "        return binarySearch(arr,x,si,mid-1)\n",
    "    else:\n",
    "        return binarySearch(arr,x,mid+1,en)\n",
    "n=int(input())\n",
    "li=[int(x) for x in input().split()]\n",
    "x=int(input())\n",
    "binarySearch(li,x,0,n-1)\n",
    "    "
   ]
  },
  {
   "cell_type": "code",
   "execution_count": null,
   "metadata": {
    "scrolled": true
   },
   "outputs": [],
   "source": [
    "'''5)Tower of Hanoi'''\n",
    "import sys\n",
    "def towerofhanoi(n,sou,dest,helper):\n",
    "    if n==1:\n",
    "        print(\"Move 1st Disk to\",dest,\"from\",sou)\n",
    "        return\n",
    "    towerofhanoi(n-1,sou,helper,dest)\n",
    "    print(\"Move\",n,\"Disk to\",dest,\"from\",sou)\n",
    "    towerofhanoi(n-1,helper,dest,sou)\n",
    "n=int(input())\n",
    "sys.setrecursionlimit(1000)\n",
    "towerofhanoi(n,'a','c','b')"
   ]
  },
  {
   "cell_type": "code",
   "execution_count": null,
   "metadata": {
    "scrolled": true
   },
   "outputs": [],
   "source": [
    "''''''"
   ]
  },
  {
   "cell_type": "code",
   "execution_count": null,
   "metadata": {
    "scrolled": true
   },
   "outputs": [],
   "source": []
  }
 ],
 "metadata": {
  "kernelspec": {
   "display_name": "Python 3",
   "language": "python",
   "name": "python3"
  },
  "language_info": {
   "codemirror_mode": {
    "name": "ipython",
    "version": 3
   },
   "file_extension": ".py",
   "mimetype": "text/x-python",
   "name": "python",
   "nbconvert_exporter": "python",
   "pygments_lexer": "ipython3",
   "version": "3.6.9"
  }
 },
 "nbformat": 4,
 "nbformat_minor": 2
}
